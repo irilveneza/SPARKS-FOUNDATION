{
  "nbformat": 4,
  "nbformat_minor": 0,
  "metadata": {
    "colab": {
      "name": "TSF_task 6.ipynb",
      "provenance": []
    },
    "kernelspec": {
      "name": "python3",
      "display_name": "Python 3"
    },
    "language_info": {
      "name": "python"
    }
  },
  "cells": [
    {
      "cell_type": "markdown",
      "metadata": {
        "id": "Fvd46vFur77R"
      },
      "source": [
        "# **Author - Iril Veneza**"
      ]
    },
    {
      "cell_type": "markdown",
      "metadata": {
        "id": "tcuexg3eM3_4"
      },
      "source": [
        "#Task 6#\n",
        "#Prediction using Decision tree Algorithm "
      ]
    },
    {
      "cell_type": "markdown",
      "metadata": {
        "id": "xgGl_lbeMquH"
      },
      "source": [
        "## Data preprocessing"
      ]
    },
    {
      "cell_type": "code",
      "metadata": {
        "id": "28Z5oWaS_UWR"
      },
      "source": [
        "#importing reqired libraries with required dataset\n",
        "import seaborn as sns\n",
        "import pandas as pd\n",
        "import numpy as np\n",
        "iris= sns.load_dataset('iris')"
      ],
      "execution_count": 84,
      "outputs": []
    },
    {
      "cell_type": "code",
      "metadata": {
        "colab": {
          "base_uri": "https://localhost:8080/",
          "height": 195
        },
        "id": "mmIj688qbDi-",
        "outputId": "582663a1-a668-490c-cc44-e45eff906e7f"
      },
      "source": [
        "iris.head()"
      ],
      "execution_count": 46,
      "outputs": [
        {
          "output_type": "execute_result",
          "data": {
            "text/html": [
              "<div>\n",
              "<style scoped>\n",
              "    .dataframe tbody tr th:only-of-type {\n",
              "        vertical-align: middle;\n",
              "    }\n",
              "\n",
              "    .dataframe tbody tr th {\n",
              "        vertical-align: top;\n",
              "    }\n",
              "\n",
              "    .dataframe thead th {\n",
              "        text-align: right;\n",
              "    }\n",
              "</style>\n",
              "<table border=\"1\" class=\"dataframe\">\n",
              "  <thead>\n",
              "    <tr style=\"text-align: right;\">\n",
              "      <th></th>\n",
              "      <th>sepal_length</th>\n",
              "      <th>sepal_width</th>\n",
              "      <th>petal_length</th>\n",
              "      <th>petal_width</th>\n",
              "      <th>species</th>\n",
              "    </tr>\n",
              "  </thead>\n",
              "  <tbody>\n",
              "    <tr>\n",
              "      <th>0</th>\n",
              "      <td>5.1</td>\n",
              "      <td>3.5</td>\n",
              "      <td>1.4</td>\n",
              "      <td>0.2</td>\n",
              "      <td>setosa</td>\n",
              "    </tr>\n",
              "    <tr>\n",
              "      <th>1</th>\n",
              "      <td>4.9</td>\n",
              "      <td>3.0</td>\n",
              "      <td>1.4</td>\n",
              "      <td>0.2</td>\n",
              "      <td>setosa</td>\n",
              "    </tr>\n",
              "    <tr>\n",
              "      <th>2</th>\n",
              "      <td>4.7</td>\n",
              "      <td>3.2</td>\n",
              "      <td>1.3</td>\n",
              "      <td>0.2</td>\n",
              "      <td>setosa</td>\n",
              "    </tr>\n",
              "    <tr>\n",
              "      <th>3</th>\n",
              "      <td>4.6</td>\n",
              "      <td>3.1</td>\n",
              "      <td>1.5</td>\n",
              "      <td>0.2</td>\n",
              "      <td>setosa</td>\n",
              "    </tr>\n",
              "    <tr>\n",
              "      <th>4</th>\n",
              "      <td>5.0</td>\n",
              "      <td>3.6</td>\n",
              "      <td>1.4</td>\n",
              "      <td>0.2</td>\n",
              "      <td>setosa</td>\n",
              "    </tr>\n",
              "  </tbody>\n",
              "</table>\n",
              "</div>"
            ],
            "text/plain": [
              "   sepal_length  sepal_width  petal_length  petal_width species\n",
              "0           5.1          3.5           1.4          0.2  setosa\n",
              "1           4.9          3.0           1.4          0.2  setosa\n",
              "2           4.7          3.2           1.3          0.2  setosa\n",
              "3           4.6          3.1           1.5          0.2  setosa\n",
              "4           5.0          3.6           1.4          0.2  setosa"
            ]
          },
          "metadata": {
            "tags": []
          },
          "execution_count": 46
        }
      ]
    },
    {
      "cell_type": "code",
      "metadata": {
        "colab": {
          "base_uri": "https://localhost:8080/"
        },
        "id": "crd-ZoTrafvU",
        "outputId": "6ebbefef-eca4-4ce0-a56c-cf4809051845"
      },
      "source": [
        "iris.info()"
      ],
      "execution_count": 47,
      "outputs": [
        {
          "output_type": "stream",
          "text": [
            "<class 'pandas.core.frame.DataFrame'>\n",
            "RangeIndex: 150 entries, 0 to 149\n",
            "Data columns (total 5 columns):\n",
            " #   Column        Non-Null Count  Dtype  \n",
            "---  ------        --------------  -----  \n",
            " 0   sepal_length  150 non-null    float64\n",
            " 1   sepal_width   150 non-null    float64\n",
            " 2   petal_length  150 non-null    float64\n",
            " 3   petal_width   150 non-null    float64\n",
            " 4   species       150 non-null    object \n",
            "dtypes: float64(4), object(1)\n",
            "memory usage: 6.0+ KB\n"
          ],
          "name": "stdout"
        }
      ]
    },
    {
      "cell_type": "code",
      "metadata": {
        "colab": {
          "base_uri": "https://localhost:8080/",
          "height": 284
        },
        "id": "JEpyvgqfatyG",
        "outputId": "cf0ad32a-6ccd-49cd-96c0-576c513d1700"
      },
      "source": [
        "iris.describe()"
      ],
      "execution_count": 48,
      "outputs": [
        {
          "output_type": "execute_result",
          "data": {
            "text/html": [
              "<div>\n",
              "<style scoped>\n",
              "    .dataframe tbody tr th:only-of-type {\n",
              "        vertical-align: middle;\n",
              "    }\n",
              "\n",
              "    .dataframe tbody tr th {\n",
              "        vertical-align: top;\n",
              "    }\n",
              "\n",
              "    .dataframe thead th {\n",
              "        text-align: right;\n",
              "    }\n",
              "</style>\n",
              "<table border=\"1\" class=\"dataframe\">\n",
              "  <thead>\n",
              "    <tr style=\"text-align: right;\">\n",
              "      <th></th>\n",
              "      <th>sepal_length</th>\n",
              "      <th>sepal_width</th>\n",
              "      <th>petal_length</th>\n",
              "      <th>petal_width</th>\n",
              "    </tr>\n",
              "  </thead>\n",
              "  <tbody>\n",
              "    <tr>\n",
              "      <th>count</th>\n",
              "      <td>150.000000</td>\n",
              "      <td>150.000000</td>\n",
              "      <td>150.000000</td>\n",
              "      <td>150.000000</td>\n",
              "    </tr>\n",
              "    <tr>\n",
              "      <th>mean</th>\n",
              "      <td>5.843333</td>\n",
              "      <td>3.057333</td>\n",
              "      <td>3.758000</td>\n",
              "      <td>1.199333</td>\n",
              "    </tr>\n",
              "    <tr>\n",
              "      <th>std</th>\n",
              "      <td>0.828066</td>\n",
              "      <td>0.435866</td>\n",
              "      <td>1.765298</td>\n",
              "      <td>0.762238</td>\n",
              "    </tr>\n",
              "    <tr>\n",
              "      <th>min</th>\n",
              "      <td>4.300000</td>\n",
              "      <td>2.000000</td>\n",
              "      <td>1.000000</td>\n",
              "      <td>0.100000</td>\n",
              "    </tr>\n",
              "    <tr>\n",
              "      <th>25%</th>\n",
              "      <td>5.100000</td>\n",
              "      <td>2.800000</td>\n",
              "      <td>1.600000</td>\n",
              "      <td>0.300000</td>\n",
              "    </tr>\n",
              "    <tr>\n",
              "      <th>50%</th>\n",
              "      <td>5.800000</td>\n",
              "      <td>3.000000</td>\n",
              "      <td>4.350000</td>\n",
              "      <td>1.300000</td>\n",
              "    </tr>\n",
              "    <tr>\n",
              "      <th>75%</th>\n",
              "      <td>6.400000</td>\n",
              "      <td>3.300000</td>\n",
              "      <td>5.100000</td>\n",
              "      <td>1.800000</td>\n",
              "    </tr>\n",
              "    <tr>\n",
              "      <th>max</th>\n",
              "      <td>7.900000</td>\n",
              "      <td>4.400000</td>\n",
              "      <td>6.900000</td>\n",
              "      <td>2.500000</td>\n",
              "    </tr>\n",
              "  </tbody>\n",
              "</table>\n",
              "</div>"
            ],
            "text/plain": [
              "       sepal_length  sepal_width  petal_length  petal_width\n",
              "count    150.000000   150.000000    150.000000   150.000000\n",
              "mean       5.843333     3.057333      3.758000     1.199333\n",
              "std        0.828066     0.435866      1.765298     0.762238\n",
              "min        4.300000     2.000000      1.000000     0.100000\n",
              "25%        5.100000     2.800000      1.600000     0.300000\n",
              "50%        5.800000     3.000000      4.350000     1.300000\n",
              "75%        6.400000     3.300000      5.100000     1.800000\n",
              "max        7.900000     4.400000      6.900000     2.500000"
            ]
          },
          "metadata": {
            "tags": []
          },
          "execution_count": 48
        }
      ]
    },
    {
      "cell_type": "markdown",
      "metadata": {
        "id": "PWXnqMc0bqv_"
      },
      "source": [
        "**Checking for null values** "
      ]
    },
    {
      "cell_type": "code",
      "metadata": {
        "colab": {
          "base_uri": "https://localhost:8080/"
        },
        "id": "yt5HRSi5bRoR",
        "outputId": "989c4e77-d762-4ef7-fa88-63cb1e038dea"
      },
      "source": [
        "iris.isnull().sum() "
      ],
      "execution_count": 49,
      "outputs": [
        {
          "output_type": "execute_result",
          "data": {
            "text/plain": [
              "sepal_length    0\n",
              "sepal_width     0\n",
              "petal_length    0\n",
              "petal_width     0\n",
              "species         0\n",
              "dtype: int64"
            ]
          },
          "metadata": {
            "tags": []
          },
          "execution_count": 49
        }
      ]
    },
    {
      "cell_type": "markdown",
      "metadata": {
        "id": "G4r-w-byeg8w"
      },
      "source": [
        "**Handling duplicate data**"
      ]
    },
    {
      "cell_type": "code",
      "metadata": {
        "colab": {
          "base_uri": "https://localhost:8080/"
        },
        "id": "FtAUNhzddGHS",
        "outputId": "5e6f618e-57b8-47e5-bdcf-db0f0aad162b"
      },
      "source": [
        "#finding duplicates\n",
        "iris_dup = iris[iris.duplicated()] \n",
        "print(iris_dup)"
      ],
      "execution_count": 50,
      "outputs": [
        {
          "output_type": "stream",
          "text": [
            "     sepal_length  sepal_width  petal_length  petal_width    species\n",
            "142           5.8          2.7           5.1          1.9  virginica\n"
          ],
          "name": "stdout"
        }
      ]
    },
    {
      "cell_type": "code",
      "metadata": {
        "id": "Mv216L4ybV3p"
      },
      "source": [
        "#dropping duplicates\n",
        "iris=iris.drop_duplicates()"
      ],
      "execution_count": 51,
      "outputs": []
    },
    {
      "cell_type": "markdown",
      "metadata": {
        "id": "GPZfj3WocALe"
      },
      "source": [
        "**Data Standardization**"
      ]
    },
    {
      "cell_type": "code",
      "metadata": {
        "colab": {
          "base_uri": "https://localhost:8080/"
        },
        "id": "G3vBd1Z0b8lw",
        "outputId": "7731de66-1fca-4b4e-b2af-7685a0efd8aa"
      },
      "source": [
        "iris['species'].value_counts()"
      ],
      "execution_count": 52,
      "outputs": [
        {
          "output_type": "execute_result",
          "data": {
            "text/plain": [
              "versicolor    50\n",
              "setosa        50\n",
              "virginica     49\n",
              "Name: species, dtype: int64"
            ]
          },
          "metadata": {
            "tags": []
          },
          "execution_count": 52
        }
      ]
    },
    {
      "cell_type": "markdown",
      "metadata": {
        "id": "7VncsXxseGCl"
      },
      "source": [
        "**Clearly there's only three types of flowers under observation.** "
      ]
    },
    {
      "cell_type": "markdown",
      "metadata": {
        "id": "oiCskQqBdAoj"
      },
      "source": [
        "# Data preparation for the ML"
      ]
    },
    {
      "cell_type": "code",
      "metadata": {
        "id": "_OOwcr8e_rXN"
      },
      "source": [
        "from sklearn.preprocessing import LabelEncoder \n",
        "from sklearn.model_selection import train_test_split\n"
      ],
      "execution_count": 53,
      "outputs": []
    },
    {
      "cell_type": "code",
      "metadata": {
        "id": "h_7KB8dTAFh7"
      },
      "source": [
        "# adding a label encoder for the species column as sklearn learns with numbers \n",
        "iris['species_n']= LabelEncoder().fit_transform(iris['species'])\n",
        "\n",
        "#creating the input and target dataset\n",
        "iris_input= iris.drop(['species','species_n'], axis=1)\n",
        "iris_target= iris['species_n']"
      ],
      "execution_count": 77,
      "outputs": []
    },
    {
      "cell_type": "code",
      "metadata": {
        "id": "0G7GpdV0Dfdi"
      },
      "source": [
        "# splitting datasets into training and test dataset\n",
        "input_train, input_test, target_train, target_test=train_test_split(iris_input, iris_target, test_size=0.15)"
      ],
      "execution_count": 72,
      "outputs": []
    },
    {
      "cell_type": "markdown",
      "metadata": {
        "id": "MMybXQVFCv5T"
      },
      "source": [
        "# Using the Decision tree Algorithm"
      ]
    },
    {
      "cell_type": "code",
      "metadata": {
        "colab": {
          "base_uri": "https://localhost:8080/"
        },
        "id": "qb0bL3YCCojw",
        "outputId": "66b13b86-7e28-4352-e20e-c38d4bc77876"
      },
      "source": [
        "from sklearn.tree import DecisionTreeClassifier\n",
        "model = DecisionTreeClassifier()\n",
        "model.fit(input_train,target_train)"
      ],
      "execution_count": 73,
      "outputs": [
        {
          "output_type": "execute_result",
          "data": {
            "text/plain": [
              "DecisionTreeClassifier(ccp_alpha=0.0, class_weight=None, criterion='gini',\n",
              "                       max_depth=None, max_features=None, max_leaf_nodes=None,\n",
              "                       min_impurity_decrease=0.0, min_impurity_split=None,\n",
              "                       min_samples_leaf=1, min_samples_split=2,\n",
              "                       min_weight_fraction_leaf=0.0, presort='deprecated',\n",
              "                       random_state=None, splitter='best')"
            ]
          },
          "metadata": {
            "tags": []
          },
          "execution_count": 73
        }
      ]
    },
    {
      "cell_type": "markdown",
      "metadata": {
        "id": "jqTctzmfFt4i"
      },
      "source": [
        "# Checking accuracy of predictions"
      ]
    },
    {
      "cell_type": "code",
      "metadata": {
        "id": "vunYszWGGZ06"
      },
      "source": [
        "from sklearn.metrics import accuracy_score, confusion_matrix"
      ],
      "execution_count": 81,
      "outputs": []
    },
    {
      "cell_type": "code",
      "metadata": {
        "colab": {
          "base_uri": "https://localhost:8080/"
        },
        "id": "U_rgFjPDHgUO",
        "outputId": "63d7fd5d-dfbf-4041-c460-6de89fac2531"
      },
      "source": [
        "predictions=model.predict(input_test)# 0 - seriosa , 1 - versicolour, 2- virginica\n",
        "\n",
        "#calculating the prediction score of model\n",
        "score= accuracy_score(target_test, predictions)\n",
        "print(\"The model can predict with an accuracy of\",round(score*100,2),\"%\")"
      ],
      "execution_count": 75,
      "outputs": [
        {
          "output_type": "stream",
          "text": [
            "The model can predict with an accuracy of 95.65 %\n"
          ],
          "name": "stdout"
        }
      ]
    },
    {
      "cell_type": "code",
      "metadata": {
        "colab": {
          "base_uri": "https://localhost:8080/",
          "height": 300
        },
        "id": "XOP-YvfAgbws",
        "outputId": "5c110b2e-c506-4c69-8adf-ed472a03e88c"
      },
      "source": [
        "#accuracy of model while prediction using confusion matrix\n",
        "confusion_matrix = pd.crosstab(target_test, predictions, rownames=['Actual'], colnames=['Predicted'] )\n",
        "sns.heatmap(confusion_matrix, annot=True)"
      ],
      "execution_count": 91,
      "outputs": [
        {
          "output_type": "execute_result",
          "data": {
            "text/plain": [
              "<matplotlib.axes._subplots.AxesSubplot at 0x7fbc8f517890>"
            ]
          },
          "metadata": {
            "tags": []
          },
          "execution_count": 91
        },
        {
          "output_type": "display_data",
          "data": {
            "image/png": "[encoded data removed]",
            "text/plain": [
              "<Figure size 432x288 with 2 Axes>"
            ]
          },
          "metadata": {
            "tags": [],
            "needs_background": "light"
          }
        }
      ]
    },
    {
      "cell_type": "markdown",
      "metadata": {
        "id": "qGRzQK7AMPIa"
      },
      "source": [
        "# Visualizing the Decision Tree"
      ]
    },
    {
      "cell_type": "code",
      "metadata": {
        "colab": {
          "base_uri": "https://localhost:8080/",
          "height": 1000
        },
        "id": "FkZkm26CLkye",
        "outputId": "99d7a64b-dee4-4376-f37f-f6c6f9ecad99"
      },
      "source": [
        "import matplotlib.pyplot as plt\n",
        "from sklearn import tree\n",
        "plt.figure(figsize=(15,20))\n",
        "tree.plot_tree(model,filled= True, )"
      ],
      "execution_count": 97,
      "outputs": [
        {
          "output_type": "execute_result",
          "data": {
            "text/plain": [
              "[Text(418.5, 978.48, 'X[3] <= 0.8\\ngini = 0.666\\nsamples = 126\\nvalue = [44, 40, 42]'),\n",
              " Text(354.11538461538464, 761.0400000000001, 'gini = 0.0\\nsamples = 44\\nvalue = [44, 0, 0]'),\n",
              " Text(482.8846153846154, 761.0400000000001, 'X[3] <= 1.75\\ngini = 0.5\\nsamples = 82\\nvalue = [0, 40, 42]'),\n",
              " Text(257.53846153846155, 543.6, 'X[2] <= 4.95\\ngini = 0.201\\nsamples = 44\\nvalue = [0, 39, 5]'),\n",
              " Text(128.76923076923077, 326.1600000000001, 'X[3] <= 1.65\\ngini = 0.05\\nsamples = 39\\nvalue = [0, 38, 1]'),\n",
              " Text(64.38461538461539, 108.72000000000003, 'gini = 0.0\\nsamples = 38\\nvalue = [0, 38, 0]'),\n",
              " Text(193.15384615384616, 108.72000000000003, 'gini = 0.0\\nsamples = 1\\nvalue = [0, 0, 1]'),\n",
              " Text(386.3076923076923, 326.1600000000001, 'X[3] <= 1.65\\ngini = 0.32\\nsamples = 5\\nvalue = [0, 1, 4]'),\n",
              " Text(321.9230769230769, 108.72000000000003, 'gini = 0.0\\nsamples = 4\\nvalue = [0, 0, 4]'),\n",
              " Text(450.69230769230774, 108.72000000000003, 'gini = 0.0\\nsamples = 1\\nvalue = [0, 1, 0]'),\n",
              " Text(708.2307692307693, 543.6, 'X[2] <= 4.85\\ngini = 0.051\\nsamples = 38\\nvalue = [0, 1, 37]'),\n",
              " Text(643.8461538461538, 326.1600000000001, 'X[0] <= 5.95\\ngini = 0.444\\nsamples = 3\\nvalue = [0, 1, 2]'),\n",
              " Text(579.4615384615385, 108.72000000000003, 'gini = 0.0\\nsamples = 1\\nvalue = [0, 1, 0]'),\n",
              " Text(708.2307692307693, 108.72000000000003, 'gini = 0.0\\nsamples = 2\\nvalue = [0, 0, 2]'),\n",
              " Text(772.6153846153846, 326.1600000000001, 'gini = 0.0\\nsamples = 35\\nvalue = [0, 0, 35]')]"
            ]
          },
          "metadata": {
            "tags": []
          },
          "execution_count": 97
        },
        {
          "output_type": "display_data",
          "data": {
            "image/png": "[encoded data removed]",
            "text/plain": [
              "<Figure size 1080x1440 with 1 Axes>"
            ]
          },
          "metadata": {
            "tags": [],
            "needs_background": "light"
          }
        }
      ]
    }
  ]
}